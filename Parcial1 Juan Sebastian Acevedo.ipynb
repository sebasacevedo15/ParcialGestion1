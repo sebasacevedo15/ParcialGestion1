{
 "cells": [
  {
   "cell_type": "code",
   "execution_count": 144,
   "id": "1321f114",
   "metadata": {},
   "outputs": [],
   "source": [
    "import re\n",
    "from random import randint\n",
    "from datetime import datetime\n",
    "\n",
    "import numpy as np\n",
    "import pandas as pd\n",
    "import matplotlib.pyplot as plt\n",
    "import pylev\n",
    "import seaborn as sbn\n",
    "import statistics as stats\n",
    "import seaborn as sns"
   ]
  },
  {
   "cell_type": "code",
   "execution_count": 4,
   "id": "5160eca8",
   "metadata": {},
   "outputs": [],
   "source": [
    "# Parameter for showing all columns when printing a dataframe\n",
    "pd.set_option('display.max_columns', None)"
   ]
  },
  {
   "cell_type": "code",
   "execution_count": 24,
   "id": "990c4528",
   "metadata": {},
   "outputs": [],
   "source": [
    "estudiantes_df=pd.read_csv(\"StudentsPerformance_exam1.csv\")"
   ]
  },
  {
   "cell_type": "code",
   "execution_count": 32,
   "id": "2ae37067",
   "metadata": {},
   "outputs": [
    {
     "data": {
      "text/plain": [
       "(1000, 8)"
      ]
     },
     "execution_count": 32,
     "metadata": {},
     "output_type": "execute_result"
    }
   ],
   "source": [
    "estudiantes_df.shape"
   ]
  },
  {
   "cell_type": "code",
   "execution_count": 8,
   "id": "7da2c6fd",
   "metadata": {
    "scrolled": true
   },
   "outputs": [
    {
     "data": {
      "text/html": [
       "<div>\n",
       "<style scoped>\n",
       "    .dataframe tbody tr th:only-of-type {\n",
       "        vertical-align: middle;\n",
       "    }\n",
       "\n",
       "    .dataframe tbody tr th {\n",
       "        vertical-align: top;\n",
       "    }\n",
       "\n",
       "    .dataframe thead th {\n",
       "        text-align: right;\n",
       "    }\n",
       "</style>\n",
       "<table border=\"1\" class=\"dataframe\">\n",
       "  <thead>\n",
       "    <tr style=\"text-align: right;\">\n",
       "      <th></th>\n",
       "      <th>gender</th>\n",
       "      <th>race/ethnicity</th>\n",
       "      <th>parental level of education</th>\n",
       "      <th>lunch</th>\n",
       "      <th>test preparation course</th>\n",
       "      <th>math score</th>\n",
       "      <th>reading score</th>\n",
       "      <th>writing score</th>\n",
       "    </tr>\n",
       "  </thead>\n",
       "  <tbody>\n",
       "    <tr>\n",
       "      <th>0</th>\n",
       "      <td>non-binary</td>\n",
       "      <td>group B</td>\n",
       "      <td>bachelor's degree</td>\n",
       "      <td>standard</td>\n",
       "      <td>none</td>\n",
       "      <td>72.0</td>\n",
       "      <td>72.0</td>\n",
       "      <td>NaN</td>\n",
       "    </tr>\n",
       "    <tr>\n",
       "      <th>1</th>\n",
       "      <td>female</td>\n",
       "      <td>group C</td>\n",
       "      <td>some college</td>\n",
       "      <td>standard</td>\n",
       "      <td>completed</td>\n",
       "      <td>69.0</td>\n",
       "      <td>90.0</td>\n",
       "      <td>88.0</td>\n",
       "    </tr>\n",
       "    <tr>\n",
       "      <th>2</th>\n",
       "      <td>female</td>\n",
       "      <td>group B</td>\n",
       "      <td>master's degree</td>\n",
       "      <td>standard</td>\n",
       "      <td>none</td>\n",
       "      <td>90.0</td>\n",
       "      <td>95.0</td>\n",
       "      <td>93.0</td>\n",
       "    </tr>\n",
       "    <tr>\n",
       "      <th>3</th>\n",
       "      <td>male</td>\n",
       "      <td>group A</td>\n",
       "      <td>associate's degree</td>\n",
       "      <td>free/reduced</td>\n",
       "      <td>none</td>\n",
       "      <td>NaN</td>\n",
       "      <td>57.0</td>\n",
       "      <td>44.0</td>\n",
       "    </tr>\n",
       "    <tr>\n",
       "      <th>4</th>\n",
       "      <td>male</td>\n",
       "      <td>group C</td>\n",
       "      <td>some college</td>\n",
       "      <td>standard</td>\n",
       "      <td>none</td>\n",
       "      <td>76.0</td>\n",
       "      <td>78.0</td>\n",
       "      <td>75.0</td>\n",
       "    </tr>\n",
       "    <tr>\n",
       "      <th>...</th>\n",
       "      <td>...</td>\n",
       "      <td>...</td>\n",
       "      <td>...</td>\n",
       "      <td>...</td>\n",
       "      <td>...</td>\n",
       "      <td>...</td>\n",
       "      <td>...</td>\n",
       "      <td>...</td>\n",
       "    </tr>\n",
       "    <tr>\n",
       "      <th>995</th>\n",
       "      <td>female</td>\n",
       "      <td>group E</td>\n",
       "      <td>master's degree</td>\n",
       "      <td>standard</td>\n",
       "      <td>completed</td>\n",
       "      <td>88.0</td>\n",
       "      <td>NaN</td>\n",
       "      <td>95.0</td>\n",
       "    </tr>\n",
       "    <tr>\n",
       "      <th>996</th>\n",
       "      <td>male</td>\n",
       "      <td>group C</td>\n",
       "      <td>high school</td>\n",
       "      <td>free/reduced</td>\n",
       "      <td>none</td>\n",
       "      <td>62.0</td>\n",
       "      <td>55.0</td>\n",
       "      <td>55.0</td>\n",
       "    </tr>\n",
       "    <tr>\n",
       "      <th>997</th>\n",
       "      <td>female</td>\n",
       "      <td>group C</td>\n",
       "      <td>high school</td>\n",
       "      <td>free/reduced</td>\n",
       "      <td>completed</td>\n",
       "      <td>59.0</td>\n",
       "      <td>NaN</td>\n",
       "      <td>65.0</td>\n",
       "    </tr>\n",
       "    <tr>\n",
       "      <th>998</th>\n",
       "      <td>NaN</td>\n",
       "      <td>group D</td>\n",
       "      <td>some college</td>\n",
       "      <td>standard</td>\n",
       "      <td>completed</td>\n",
       "      <td>68.0</td>\n",
       "      <td>78.0</td>\n",
       "      <td>77.0</td>\n",
       "    </tr>\n",
       "    <tr>\n",
       "      <th>999</th>\n",
       "      <td>female</td>\n",
       "      <td>group D</td>\n",
       "      <td>some college</td>\n",
       "      <td>free/reduced</td>\n",
       "      <td>none</td>\n",
       "      <td>77.0</td>\n",
       "      <td>86.0</td>\n",
       "      <td>86.0</td>\n",
       "    </tr>\n",
       "  </tbody>\n",
       "</table>\n",
       "<p>1000 rows × 8 columns</p>\n",
       "</div>"
      ],
      "text/plain": [
       "         gender race/ethnicity parental level of education         lunch  \\\n",
       "0    non-binary        group B           bachelor's degree      standard   \n",
       "1        female        group C                some college      standard   \n",
       "2        female        group B             master's degree      standard   \n",
       "3          male        group A          associate's degree  free/reduced   \n",
       "4          male        group C                some college      standard   \n",
       "..          ...            ...                         ...           ...   \n",
       "995      female        group E             master's degree      standard   \n",
       "996        male        group C                 high school  free/reduced   \n",
       "997      female        group C                 high school  free/reduced   \n",
       "998         NaN        group D                some college      standard   \n",
       "999      female        group D                some college  free/reduced   \n",
       "\n",
       "    test preparation course  math score  reading score  writing score  \n",
       "0                      none        72.0           72.0            NaN  \n",
       "1                 completed        69.0           90.0           88.0  \n",
       "2                      none        90.0           95.0           93.0  \n",
       "3                      none         NaN           57.0           44.0  \n",
       "4                      none        76.0           78.0           75.0  \n",
       "..                      ...         ...            ...            ...  \n",
       "995               completed        88.0            NaN           95.0  \n",
       "996                    none        62.0           55.0           55.0  \n",
       "997               completed        59.0            NaN           65.0  \n",
       "998               completed        68.0           78.0           77.0  \n",
       "999                    none        77.0           86.0           86.0  \n",
       "\n",
       "[1000 rows x 8 columns]"
      ]
     },
     "execution_count": 8,
     "metadata": {},
     "output_type": "execute_result"
    }
   ],
   "source": [
    "estudiantes_df"
   ]
  },
  {
   "cell_type": "code",
   "execution_count": null,
   "id": "6f62b684",
   "metadata": {},
   "outputs": [],
   "source": []
  },
  {
   "cell_type": "markdown",
   "id": "3bc7aafc",
   "metadata": {},
   "source": [
    "# 1"
   ]
  },
  {
   "cell_type": "markdown",
   "id": "7fb834ff",
   "metadata": {},
   "source": [
    "¿Qué tipo de variables tiene el dataset? Detalle el tipo de variable de cada\n",
    "columna.\n"
   ]
  },
  {
   "cell_type": "code",
   "execution_count": 9,
   "id": "b091259c",
   "metadata": {},
   "outputs": [
    {
     "data": {
      "text/plain": [
       "gender                          object\n",
       "race/ethnicity                  object\n",
       "parental level of education     object\n",
       "lunch                           object\n",
       "test preparation course         object\n",
       "math score                     float64\n",
       "reading score                  float64\n",
       "writing score                  float64\n",
       "dtype: object"
      ]
     },
     "execution_count": 9,
     "metadata": {},
     "output_type": "execute_result"
    }
   ],
   "source": [
    "estudiantes_df.dtypes"
   ]
  },
  {
   "cell_type": "markdown",
   "id": "04883dbc",
   "metadata": {},
   "source": [
    "# 2"
   ]
  },
  {
   "cell_type": "markdown",
   "id": "2ad67965",
   "metadata": {},
   "source": [
    "¿Qué tipo de problemas de calidad de datos logra identificar? Defina e\n",
    "implemente las estrategias de limpieza de datos que correspondan.\n"
   ]
  },
  {
   "cell_type": "code",
   "execution_count": 10,
   "id": "7a23942a",
   "metadata": {
    "scrolled": true
   },
   "outputs": [
    {
     "data": {
      "text/plain": [
       "gender                         47\n",
       "race/ethnicity                 45\n",
       "parental level of education    60\n",
       "lunch                          54\n",
       "test preparation course        41\n",
       "math score                     51\n",
       "reading score                  48\n",
       "writing score                  49\n",
       "dtype: int64"
      ]
     },
     "execution_count": 10,
     "metadata": {},
     "output_type": "execute_result"
    }
   ],
   "source": [
    "estudiantes_df.isnull().sum()"
   ]
  },
  {
   "cell_type": "code",
   "execution_count": 51,
   "id": "f5511e4f",
   "metadata": {},
   "outputs": [],
   "source": [
    "estudiantes_df=estudiantes_df.dropna()"
   ]
  },
  {
   "cell_type": "code",
   "execution_count": 52,
   "id": "4972e58d",
   "metadata": {
    "scrolled": true
   },
   "outputs": [
    {
     "data": {
      "text/plain": [
       "array(['female', 'male', 'non-binary'], dtype=object)"
      ]
     },
     "execution_count": 52,
     "metadata": {},
     "output_type": "execute_result"
    }
   ],
   "source": [
    "estudiantes_df[\"gender\"].unique()"
   ]
  },
  {
   "cell_type": "code",
   "execution_count": 54,
   "id": "871c90a0",
   "metadata": {},
   "outputs": [
    {
     "data": {
      "text/plain": [
       "array(['group C', 'group B', 'group D', 'group A', 'group E'],\n",
       "      dtype=object)"
      ]
     },
     "execution_count": 54,
     "metadata": {},
     "output_type": "execute_result"
    }
   ],
   "source": [
    "estudiantes_df[\"race/ethnicity\"].unique()"
   ]
  },
  {
   "cell_type": "code",
   "execution_count": 55,
   "id": "26b334fa",
   "metadata": {
    "scrolled": true
   },
   "outputs": [
    {
     "data": {
      "text/plain": [
       "array(['some college', \"master's degree\", 'high school',\n",
       "       \"associate's degree\", 'some high school', \"bachelor's degree\"],\n",
       "      dtype=object)"
      ]
     },
     "execution_count": 55,
     "metadata": {},
     "output_type": "execute_result"
    }
   ],
   "source": [
    "estudiantes_df[\"parental level of education\"].unique()"
   ]
  },
  {
   "cell_type": "code",
   "execution_count": 56,
   "id": "f1254750",
   "metadata": {
    "scrolled": true
   },
   "outputs": [
    {
     "data": {
      "text/plain": [
       "array(['standard', 'free/reduced'], dtype=object)"
      ]
     },
     "execution_count": 56,
     "metadata": {},
     "output_type": "execute_result"
    }
   ],
   "source": [
    "estudiantes_df[\"lunch\"].unique()"
   ]
  },
  {
   "cell_type": "markdown",
   "id": "846aff32",
   "metadata": {},
   "source": [
    "# 3"
   ]
  },
  {
   "cell_type": "markdown",
   "id": "2dacda1d",
   "metadata": {},
   "source": [
    "¿En qué asignatura en promedio los estudiantes obtuvieron un mejor puntaje?\n",
    "¿Hay evidencia de algún sesgo en la distribución de dichos puntajes?\n"
   ]
  },
  {
   "cell_type": "code",
   "execution_count": 62,
   "id": "2c9a3b3c",
   "metadata": {},
   "outputs": [
    {
     "name": "stdout",
     "output_type": "stream",
     "text": [
      "Promedio en math:\n",
      "66.27\n",
      "Promedio en reading:\n",
      "69.54\n",
      "Promedio en writing:\n",
      "68.47\n"
     ]
    }
   ],
   "source": [
    "print(\"Promedio en math:\")\n",
    "print(round(stats.mean(estudiantes_df[\"math score\"]),2))\n",
    "print(\"Promedio en reading:\")\n",
    "print(round(stats.mean(estudiantes_df[\"reading score\"]),2))\n",
    "print(\"Promedio en writing:\")\n",
    "print(round(stats.mean(estudiantes_df[\"writing score\"]),2))"
   ]
  },
  {
   "cell_type": "code",
   "execution_count": 145,
   "id": "8f449a97",
   "metadata": {},
   "outputs": [
    {
     "name": "stderr",
     "output_type": "stream",
     "text": [
      "C:\\Users\\Sebastian\\anaconda3\\lib\\site-packages\\seaborn\\distributions.py:2619: FutureWarning: `distplot` is a deprecated function and will be removed in a future version. Please adapt your code to use either `displot` (a figure-level function with similar flexibility) or `histplot` (an axes-level function for histograms).\n",
      "  warnings.warn(msg, FutureWarning)\n"
     ]
    },
    {
     "data": {
      "image/png": "[encoded data removed]",
      "text/plain": [
       "<Figure size 432x288 with 1 Axes>"
      ]
     },
     "metadata": {
      "needs_background": "light"
     },
     "output_type": "display_data"
    }
   ],
   "source": [
    "sns.distplot(estudiantes_df['reading score']);"
   ]
  },
  {
   "cell_type": "code",
   "execution_count": 89,
   "id": "7893461c",
   "metadata": {},
   "outputs": [
    {
     "data": {
      "text/plain": [
       "{'whiskers': [<matplotlib.lines.Line2D at 0x1dd79041250>,\n",
       "  <matplotlib.lines.Line2D at 0x1dd79041520>],\n",
       " 'caps': [<matplotlib.lines.Line2D at 0x1dd790417f0>,\n",
       "  <matplotlib.lines.Line2D at 0x1dd79041ac0>],\n",
       " 'boxes': [<matplotlib.lines.Line2D at 0x1dd79037f40>],\n",
       " 'medians': [<matplotlib.lines.Line2D at 0x1dd79041d30>],\n",
       " 'fliers': [<matplotlib.lines.Line2D at 0x1dd7904d040>],\n",
       " 'means': []}"
      ]
     },
     "execution_count": 89,
     "metadata": {},
     "output_type": "execute_result"
    },
    {
     "data": {
      "image/png": "[encoded data removed]",
      "text/plain": [
       "<Figure size 432x288 with 1 Axes>"
      ]
     },
     "metadata": {
      "needs_background": "light"
     },
     "output_type": "display_data"
    }
   ],
   "source": [
    "plt.boxplot(estudiantes_df[\"reading score\"])"
   ]
  },
  {
   "cell_type": "markdown",
   "id": "2f4c9e1c",
   "metadata": {},
   "source": [
    "# 4"
   ]
  },
  {
   "cell_type": "markdown",
   "id": "e6599a5c",
   "metadata": {},
   "source": [
    "¿Existe alguna correlación entre los puntajes obtenidos en las tres asignaturas?"
   ]
  },
  {
   "cell_type": "code",
   "execution_count": 80,
   "id": "da640fc8",
   "metadata": {
    "scrolled": true
   },
   "outputs": [
    {
     "name": "stdout",
     "output_type": "stream",
     "text": [
      "The correlation is:\n",
      "               math score  reading score  writing score\n",
      "math score       1.000000       0.821609       0.806391\n",
      "reading score    0.821609       1.000000       0.956514\n",
      "writing score    0.806391       0.956514       1.000000 \n",
      "\n"
     ]
    },
    {
     "name": "stderr",
     "output_type": "stream",
     "text": [
      "C:\\Users\\Sebastian\\AppData\\Local\\Temp\\ipykernel_7148\\3873842513.py:1: FutureWarning: Passing a set as an indexer is deprecated and will raise in a future version. Use a list instead.\n",
      "  corr_df = estudiantes_df[{\"math score\",\"writing score\", \"reading score\"}].corr()\n"
     ]
    }
   ],
   "source": [
    "corr_df = estudiantes_df[{\"math score\",\"writing score\", \"reading score\"}].corr()\n",
    "print(\"The correlation is:\")\n",
    "print(corr_df, \"\\n\")"
   ]
  },
  {
   "cell_type": "code",
   "execution_count": 83,
   "id": "f6b373ad",
   "metadata": {},
   "outputs": [
    {
     "data": {
      "text/plain": [
       "<AxesSubplot:title={'center':'Math VS Reading'}, xlabel='math score', ylabel='reading score'>"
      ]
     },
     "execution_count": 83,
     "metadata": {},
     "output_type": "execute_result"
    },
    {
     "data": {
      "image/png": "[encoded data removed]",
      "text/plain": [
       "<Figure size 432x288 with 1 Axes>"
      ]
     },
     "metadata": {
      "needs_background": "light"
     },
     "output_type": "display_data"
    }
   ],
   "source": [
    "estudiantes_df.plot.scatter(x='math score', y='reading score',title='Math VS Reading')"
   ]
  },
  {
   "cell_type": "code",
   "execution_count": 87,
   "id": "fecf1b32",
   "metadata": {},
   "outputs": [
    {
     "data": {
      "text/plain": [
       "<AxesSubplot:title={'center':'Writing VS Reading'}, xlabel='writing score', ylabel='reading score'>"
      ]
     },
     "execution_count": 87,
     "metadata": {},
     "output_type": "execute_result"
    },
    {
     "data": {
      "image/png": "[encoded data removed]",
      "text/plain": [
       "<Figure size 432x288 with 1 Axes>"
      ]
     },
     "metadata": {
      "needs_background": "light"
     },
     "output_type": "display_data"
    }
   ],
   "source": [
    "estudiantes_df.plot.scatter(x='writing score', y='reading score',title='Writing VS Reading')"
   ]
  },
  {
   "cell_type": "code",
   "execution_count": 85,
   "id": "5e405b53",
   "metadata": {},
   "outputs": [
    {
     "data": {
      "text/plain": [
       "<AxesSubplot:title={'center':'Math VS writing'}, xlabel='math score', ylabel='writing score'>"
      ]
     },
     "execution_count": 85,
     "metadata": {},
     "output_type": "execute_result"
    },
    {
     "data": {
      "image/png": "[encoded data removed]",
      "text/plain": [
       "<Figure size 432x288 with 1 Axes>"
      ]
     },
     "metadata": {
      "needs_background": "light"
     },
     "output_type": "display_data"
    }
   ],
   "source": [
    "estudiantes_df.plot.scatter(x='math score', y='writing score',title='Math VS writing')"
   ]
  },
  {
   "cell_type": "markdown",
   "id": "a732dbfa",
   "metadata": {},
   "source": [
    "# 5"
   ]
  },
  {
   "cell_type": "markdown",
   "id": "25fbe43f",
   "metadata": {},
   "source": [
    "¿Hay alguna diferencia observable en los puntajes de la asignatura de\n",
    "matemáticas entre géneros? ¿Qué género obtuvo en promedio los mejores\n",
    "puntajes?\n"
   ]
  },
  {
   "cell_type": "code",
   "execution_count": 94,
   "id": "afb9d194",
   "metadata": {},
   "outputs": [],
   "source": [
    "#Para realizar el analisis por generos se decide agrupar las variables \n"
   ]
  },
  {
   "cell_type": "code",
   "execution_count": 107,
   "id": "70b69252",
   "metadata": {},
   "outputs": [
    {
     "data": {
      "text/plain": [
       "gender\n",
       "female        63.647841\n",
       "male          68.383764\n",
       "non-binary    68.448980\n",
       "Name: math score, dtype: float64"
      ]
     },
     "execution_count": 107,
     "metadata": {},
     "output_type": "execute_result"
    }
   ],
   "source": [
    "(estudiantes_df.groupby([\"gender\"])['math score'].mean())"
   ]
  },
  {
   "cell_type": "code",
   "execution_count": 103,
   "id": "9731dd4f",
   "metadata": {},
   "outputs": [
    {
     "data": {
      "text/plain": [
       "gender\n",
       "female        72.774086\n",
       "male          65.354244\n",
       "non-binary    71.214286\n",
       "Name: reading score, dtype: float64"
      ]
     },
     "execution_count": 103,
     "metadata": {},
     "output_type": "execute_result"
    }
   ],
   "source": [
    "estudiantes_df.groupby([\"gender\"])['reading score'].mean()"
   ]
  },
  {
   "cell_type": "code",
   "execution_count": 104,
   "id": "2d6a8d56",
   "metadata": {},
   "outputs": [
    {
     "data": {
      "text/plain": [
       "gender\n",
       "female        72.684385\n",
       "male          63.472325\n",
       "non-binary    69.357143\n",
       "Name: writing score, dtype: float64"
      ]
     },
     "execution_count": 104,
     "metadata": {},
     "output_type": "execute_result"
    }
   ],
   "source": [
    "estudiantes_df.groupby([\"gender\"])['writing score'].mean()"
   ]
  },
  {
   "cell_type": "markdown",
   "id": "bd5f67af",
   "metadata": {},
   "source": [
    "# 6"
   ]
  },
  {
   "cell_type": "markdown",
   "id": "3f688e80",
   "metadata": {},
   "source": [
    "¿Qué nivel de escolaridad tienen los padres de los estudiantes que obtuvieron\n",
    "un puntaje por encima del percentil 85 en la asignatura de escritura? ¿Cómo se\n",
    "distribuye la escolaridad entre esta población?."
   ]
  },
  {
   "cell_type": "code",
   "execution_count": 113,
   "id": "81a7ed59",
   "metadata": {},
   "outputs": [
    {
     "data": {
      "text/plain": [
       "math score       82.0\n",
       "reading score    85.0\n",
       "writing score    85.0\n",
       "Name: 0.85, dtype: float64"
      ]
     },
     "execution_count": 113,
     "metadata": {},
     "output_type": "execute_result"
    }
   ],
   "source": [
    "#Para separar a los estudiantes sobre el percentil 85 en esritura se calcula el percentil y luego se filtra en el dataset por \n",
    "#valores mayores o iguales\n",
    "\n",
    "estudiantes_df.quantile(q=0.85, axis=0, numeric_only=True, interpolation='linear')"
   ]
  },
  {
   "cell_type": "code",
   "execution_count": 124,
   "id": "11faa6d2",
   "metadata": {},
   "outputs": [],
   "source": [
    "# a partir de  nota 85 se encuentra el percentil 85 \n",
    "\n",
    "q85_df=estudiantes_df.loc[estudiantes_df[\"reading score\"]> 85]"
   ]
  },
  {
   "cell_type": "code",
   "execution_count": 125,
   "id": "b12d8868",
   "metadata": {},
   "outputs": [
    {
     "data": {
      "text/plain": [
       "(97, 8)"
      ]
     },
     "execution_count": 125,
     "metadata": {},
     "output_type": "execute_result"
    }
   ],
   "source": [
    "q85_df.shape"
   ]
  },
  {
   "cell_type": "code",
   "execution_count": 130,
   "id": "a74217e0",
   "metadata": {},
   "outputs": [
    {
     "data": {
      "text/plain": [
       "associate's degree    26.804124\n",
       "some college          21.649485\n",
       "bachelor's degree     18.556701\n",
       "some high school      15.463918\n",
       "master's degree       10.309278\n",
       "high school            7.216495\n",
       "Name: parental level of education, dtype: float64"
      ]
     },
     "execution_count": 130,
     "metadata": {},
     "output_type": "execute_result"
    }
   ],
   "source": [
    "100 * q85_df['parental level of education'].value_counts() / len(q85_df['parental level of education'])"
   ]
  },
  {
   "cell_type": "code",
   "execution_count": 127,
   "id": "6d53dea6",
   "metadata": {},
   "outputs": [
    {
     "data": {
      "image/png": "[encoded data removed]",
      "text/plain": [
       "<Figure size 432x432 with 1 Axes>"
      ]
     },
     "metadata": {},
     "output_type": "display_data"
    }
   ],
   "source": [
    "plot = q85_df['parental level of education'].value_counts().plot(kind='pie', autopct='%.2f', \n",
    "                                            figsize=(6, 6),\n",
    "                                            title='Nivel educación padres')"
   ]
  },
  {
   "cell_type": "markdown",
   "id": "d5549e6d",
   "metadata": {},
   "source": [
    "# 7"
   ]
  },
  {
   "cell_type": "markdown",
   "id": "0d33616c",
   "metadata": {},
   "source": [
    "¿Qué porcentaje de los estudiantes obtuvieron puntajes iguales o superiores a\n",
    "90 en las tres asignaturas? De estos estudiantes¿que porcentaje estudió para\n",
    "los exámenes?\n"
   ]
  },
  {
   "cell_type": "code",
   "execution_count": 133,
   "id": "16f73e2b",
   "metadata": {},
   "outputs": [],
   "source": [
    "#se realiza un filtro para obtener el dataset con estas caraterizticas\n",
    "\n",
    "top_df=estudiantes_df.loc[(estudiantes_df[\"math score\"]>=90)&(estudiantes_df[\"reading score\"]>=90)&(estudiantes_df[\"writing score\"]>=90)]"
   ]
  },
  {
   "cell_type": "code",
   "execution_count": 137,
   "id": "3755d8fa",
   "metadata": {},
   "outputs": [
    {
     "data": {
      "text/html": [
       "<div>\n",
       "<style scoped>\n",
       "    .dataframe tbody tr th:only-of-type {\n",
       "        vertical-align: middle;\n",
       "    }\n",
       "\n",
       "    .dataframe tbody tr th {\n",
       "        vertical-align: top;\n",
       "    }\n",
       "\n",
       "    .dataframe thead th {\n",
       "        text-align: right;\n",
       "    }\n",
       "</style>\n",
       "<table border=\"1\" class=\"dataframe\">\n",
       "  <thead>\n",
       "    <tr style=\"text-align: right;\">\n",
       "      <th></th>\n",
       "      <th>gender</th>\n",
       "      <th>race/ethnicity</th>\n",
       "      <th>parental level of education</th>\n",
       "      <th>lunch</th>\n",
       "      <th>test preparation course</th>\n",
       "      <th>math score</th>\n",
       "      <th>reading score</th>\n",
       "      <th>writing score</th>\n",
       "    </tr>\n",
       "  </thead>\n",
       "  <tbody>\n",
       "    <tr>\n",
       "      <th>2</th>\n",
       "      <td>female</td>\n",
       "      <td>group B</td>\n",
       "      <td>master's degree</td>\n",
       "      <td>standard</td>\n",
       "      <td>none</td>\n",
       "      <td>90.0</td>\n",
       "      <td>95.0</td>\n",
       "      <td>93.0</td>\n",
       "    </tr>\n",
       "    <tr>\n",
       "      <th>114</th>\n",
       "      <td>non-binary</td>\n",
       "      <td>group E</td>\n",
       "      <td>bachelor's degree</td>\n",
       "      <td>standard</td>\n",
       "      <td>completed</td>\n",
       "      <td>99.0</td>\n",
       "      <td>100.0</td>\n",
       "      <td>100.0</td>\n",
       "    </tr>\n",
       "    <tr>\n",
       "      <th>165</th>\n",
       "      <td>female</td>\n",
       "      <td>group C</td>\n",
       "      <td>bachelor's degree</td>\n",
       "      <td>standard</td>\n",
       "      <td>completed</td>\n",
       "      <td>96.0</td>\n",
       "      <td>100.0</td>\n",
       "      <td>100.0</td>\n",
       "    </tr>\n",
       "    <tr>\n",
       "      <th>451</th>\n",
       "      <td>female</td>\n",
       "      <td>group E</td>\n",
       "      <td>some college</td>\n",
       "      <td>standard</td>\n",
       "      <td>none</td>\n",
       "      <td>100.0</td>\n",
       "      <td>92.0</td>\n",
       "      <td>97.0</td>\n",
       "    </tr>\n",
       "    <tr>\n",
       "      <th>458</th>\n",
       "      <td>female</td>\n",
       "      <td>group E</td>\n",
       "      <td>bachelor's degree</td>\n",
       "      <td>standard</td>\n",
       "      <td>none</td>\n",
       "      <td>100.0</td>\n",
       "      <td>100.0</td>\n",
       "      <td>100.0</td>\n",
       "    </tr>\n",
       "  </tbody>\n",
       "</table>\n",
       "</div>"
      ],
      "text/plain": [
       "         gender race/ethnicity parental level of education     lunch  \\\n",
       "2        female        group B             master's degree  standard   \n",
       "114  non-binary        group E           bachelor's degree  standard   \n",
       "165      female        group C           bachelor's degree  standard   \n",
       "451      female        group E                some college  standard   \n",
       "458      female        group E           bachelor's degree  standard   \n",
       "\n",
       "    test preparation course  math score  reading score  writing score  \n",
       "2                      none        90.0           95.0           93.0  \n",
       "114               completed        99.0          100.0          100.0  \n",
       "165               completed        96.0          100.0          100.0  \n",
       "451                    none       100.0           92.0           97.0  \n",
       "458                    none       100.0          100.0          100.0  "
      ]
     },
     "execution_count": 137,
     "metadata": {},
     "output_type": "execute_result"
    }
   ],
   "source": [
    "top_df.head()"
   ]
  },
  {
   "cell_type": "code",
   "execution_count": 135,
   "id": "8bd06c04",
   "metadata": {},
   "outputs": [
    {
     "data": {
      "text/plain": [
       "(21, 8)"
      ]
     },
     "execution_count": 135,
     "metadata": {},
     "output_type": "execute_result"
    }
   ],
   "source": [
    "top_df.shape"
   ]
  },
  {
   "cell_type": "code",
   "execution_count": 140,
   "id": "68f5153c",
   "metadata": {},
   "outputs": [
    {
     "data": {
      "text/plain": [
       "completed    12\n",
       "none          9\n",
       "Name: test preparation course, dtype: int64"
      ]
     },
     "execution_count": 140,
     "metadata": {},
     "output_type": "execute_result"
    }
   ],
   "source": [
    "top_df[\"test preparation course\"].value_counts()"
   ]
  },
  {
   "cell_type": "code",
   "execution_count": 142,
   "id": "7136176c",
   "metadata": {},
   "outputs": [
    {
     "data": {
      "text/plain": [
       "completed    57.142857\n",
       "none         42.857143\n",
       "Name: test preparation course, dtype: float64"
      ]
     },
     "execution_count": 142,
     "metadata": {},
     "output_type": "execute_result"
    }
   ],
   "source": [
    "top_df[\"test preparation course\"].value_counts()/ len(top_df[\"test preparation course\"])*100"
   ]
  },
  {
   "cell_type": "code",
   "execution_count": null,
   "id": "11431b36",
   "metadata": {},
   "outputs": [],
   "source": []
  }
 ],
 "metadata": {
  "kernelspec": {
   "display_name": "Python 3 (ipykernel)",
   "language": "python",
   "name": "python3"
  },
  "language_info": {
   "codemirror_mode": {
    "name": "ipython",
    "version": 3
   },
   "file_extension": ".py",
   "mimetype": "text/x-python",
   "name": "python",
   "nbconvert_exporter": "python",
   "pygments_lexer": "ipython3",
   "version": "3.9.12"
  }
 },
 "nbformat": 4,
 "nbformat_minor": 5
}
